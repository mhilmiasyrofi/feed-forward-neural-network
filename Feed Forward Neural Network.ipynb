{
 "cells": [
  {
   "cell_type": "markdown",
   "metadata": {},
   "source": [
    "# Tugas Besar II\n",
    "## Feed Forward Neural Network\n",
    "### IF4071 Pembelajaran Mesin"
   ]
  },
  {
   "cell_type": "markdown",
   "metadata": {},
   "source": [
    "### 1.a Create Classifier\n",
    " \n",
    "Membuat kode program Backpropagation (lihat contoh algoritma di buku Tom Mitchell hal. 98), dengan spesifikasi berikut:\n",
    "* Jumlah hidden layer maksimal 10\n",
    "* Jumlah node dalam setiap hidden layer dapat bervariasi\n",
    "* Fully-connected layer\n",
    "* Fungsi aktivasi berupa sigmoid untuk semua hidden layer maupun output layer\n",
    "* Node output berjumlah 1\n",
    "* Program memberikan pilihan untuk menggunakan momentum atau tidak\n",
    "* Program mengimplementasikan mini-batch stochastic gradient descent\n",
    "* Implementasi incremental dengan setting batch-size=1 dan implementasi batch dengan setting batch-size=jumlah data."
   ]
  },
  {
   "cell_type": "code",
   "execution_count": 3,
   "metadata": {},
   "outputs": [
    {
     "name": "stdout",
     "output_type": "stream",
     "text": [
      "[array([[ 0.26095945],\n",
      "       [-0.07749333]]), array([[ 0.42991707],\n",
      "       [-0.90622383],\n",
      "       [-0.92000691]])]\n",
      "[array([[ 0.79639235],\n",
      "       [-0.04998969]]), array([[ 0.56634392, -0.12938875],\n",
      "       [-0.78952505, -0.36029877],\n",
      "       [-0.62589945, -0.15264531]])]\n"
     ]
    }
   ],
   "source": [
    "import numpy as np\n",
    "import random\n",
    "\n",
    "class Network(object):\n",
    "    def __init__(self, sizes):\n",
    "        self.num_layers = len(sizes)\n",
    "        self.sizes = sizes\n",
    "        self.biases = [np.random.randn(y, 1) for y in sizes[1:]]\n",
    "        self.weights = [np.random.randn(y, x) for x, y in zip(sizes[:-1], sizes[1:])]\n",
    "        \n",
    "NN = Network([1,2,3])\n",
    "print(NN.biases)\n",
    "print(NN.weights)"
   ]
  }
 ],
 "metadata": {
  "kernelspec": {
   "display_name": "Python 3",
   "language": "python",
   "name": "python3"
  },
  "language_info": {
   "codemirror_mode": {
    "name": "ipython",
    "version": 3
   },
   "file_extension": ".py",
   "mimetype": "text/x-python",
   "name": "python",
   "nbconvert_exporter": "python",
   "pygments_lexer": "ipython3",
   "version": "3.5.2"
  }
 },
 "nbformat": 4,
 "nbformat_minor": 2
}
